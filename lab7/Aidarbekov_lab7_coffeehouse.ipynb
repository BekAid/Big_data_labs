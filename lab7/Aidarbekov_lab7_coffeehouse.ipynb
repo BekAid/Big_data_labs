{
 "cells": [
  {
   "cell_type": "markdown",
   "source": [
    "# Цель работы: \n",
    "Научится анализировать текстовые данные(отзывы)\n",
    "\n",
    "## Задача:\n",
    "1)  Создайте свой «мешок слов», например, набор из 20-25 отзывов о чем-либо, напишите краткое пояснение к данным.\n",
    "2)\tСоздайте словарь стоп-слов, примените стоп-слова к своему «мешку слов»\n",
    "3)\tМасштабируйте данные с помощью tf-idf\n",
    "4)\tИсследуйте коэффициенты модели\n",
    "5)\tСделайте выводы по работе."
   ],
   "metadata": {
    "collapsed": false
   },
   "id": "e1f0807f7180556d"
  },
  {
   "cell_type": "markdown",
   "source": [
    "Я создал также папку coffee который содержит в общем 24 отзыва из которых 12 положительные и 12 отрицательные и все поделены на 2 группы(тестовые и обучающие)"
   ],
   "metadata": {
    "collapsed": false
   },
   "id": "2c61cf885d3330f3"
  },
  {
   "cell_type": "code",
   "execution_count": 4,
   "outputs": [
    {
     "name": "stdout",
     "output_type": "stream",
     "text": [
      "тип text_train: <class 'list'>\n",
      "длина text_train: 12\n",
      "text_train[1]:\n",
      "У них лучшие пироги, идеальное дополнение к напиткам!\n"
     ]
    }
   ],
   "source": [
    "from sklearn.datasets import load_files\n",
    "reviews_train = load_files(\"coffee/train/\")\n",
    "\n",
    "text_train, y_train = reviews_train.data, reviews_train.target\n",
    "print(\"тип text_train: {}\".format(type(text_train)))\n",
    "print(\"длина text_train: {}\".format(len(text_train)))\n",
    "print(\"text_train[1]:\\n{}\".format(text_train[1].decode('utf-8')))"
   ],
   "metadata": {
    "collapsed": false,
    "ExecuteTime": {
     "end_time": "2023-12-14T16:05:02.374716600Z",
     "start_time": "2023-12-14T16:05:02.364902700Z"
    }
   },
   "id": "d9ae551cd9637a97"
  },
  {
   "cell_type": "code",
   "execution_count": 5,
   "outputs": [],
   "source": [
    "text_train = [doc.replace(b\"<br />\", b\" \") for doc in text_train]"
   ],
   "metadata": {
    "collapsed": false,
    "ExecuteTime": {
     "end_time": "2023-12-14T16:07:54.751150400Z",
     "start_time": "2023-12-14T16:07:54.742509900Z"
    }
   },
   "id": "b911c1090bd2ca54"
  },
  {
   "cell_type": "code",
   "execution_count": 7,
   "outputs": [
    {
     "name": "stdout",
     "output_type": "stream",
     "text": [
      "text_train[1]:\n",
      "У них лучшие пироги, идеальное дополнение к напиткам!\n"
     ]
    }
   ],
   "source": [
    "print(\"text_train[1]:\\n{}\".format(text_train[1].decode('utf-8')))"
   ],
   "metadata": {
    "collapsed": false,
    "ExecuteTime": {
     "end_time": "2023-12-14T16:08:11.839567900Z",
     "start_time": "2023-12-14T16:08:11.829443700Z"
    }
   },
   "id": "962c7075f9835df7"
  },
  {
   "cell_type": "code",
   "execution_count": 8,
   "outputs": [
    {
     "data": {
      "text/plain": "array([0, 1])"
     },
     "execution_count": 8,
     "metadata": {},
     "output_type": "execute_result"
    }
   ],
   "source": [
    "import numpy as np\n",
    "np.unique(y_train)"
   ],
   "metadata": {
    "collapsed": false,
    "ExecuteTime": {
     "end_time": "2023-12-14T16:08:32.599266400Z",
     "start_time": "2023-12-14T16:08:32.578536600Z"
    }
   },
   "id": "3bd4a73f34382d3b"
  },
  {
   "cell_type": "code",
   "execution_count": 9,
   "outputs": [
    {
     "name": "stdout",
     "output_type": "stream",
     "text": [
      "Количество примеров на класс (обучение training): [6 6]\n"
     ]
    }
   ],
   "source": [
    "print(\"Количество примеров на класс (обучение training): {}\".format(np.bincount(y_train)))\n"
   ],
   "metadata": {
    "collapsed": false,
    "ExecuteTime": {
     "end_time": "2023-12-14T16:08:40.983738Z",
     "start_time": "2023-12-14T16:08:40.975233400Z"
    }
   },
   "id": "b850b19a9b04de65"
  },
  {
   "cell_type": "code",
   "execution_count": 11,
   "outputs": [
    {
     "name": "stdout",
     "output_type": "stream",
     "text": [
      "Количество документов в текстовых данных: [\n",
      "Количество примеров на класс (тест - test): [6 6]\n"
     ]
    }
   ],
   "source": [
    "reviews_test = load_files(\"coffee/test/\")\n",
    "text_test, y_test = reviews_test.data, reviews_test.target\n",
    "print(\"Количество документов в текстовых данных: [\".format(len(text_test)))\n",
    "print(\"Количество примеров на класс (тест - test): {}\".format(np.bincount(y_test)))\n",
    "text_test = [doc.replace(b\"<br />\", b\" \") for doc in text_test]"
   ],
   "metadata": {
    "collapsed": false,
    "ExecuteTime": {
     "end_time": "2023-12-14T16:09:11.478287100Z",
     "start_time": "2023-12-14T16:09:11.453028Z"
    }
   },
   "id": "b41e5a61d67a818e"
  },
  {
   "cell_type": "markdown",
   "source": [
    "## Мешок слов"
   ],
   "metadata": {
    "collapsed": false
   },
   "id": "7c95c22adb6ab419"
  },
  {
   "cell_type": "code",
   "execution_count": 12,
   "outputs": [],
   "source": [
    "stop_words = ['и', 'в', 'на', 'с', 'не', 'что', 'за', 'это', 'по', 'к', 'для', 'от', 'но', 'из', 'о', 'а']"
   ],
   "metadata": {
    "collapsed": false,
    "ExecuteTime": {
     "end_time": "2023-12-14T16:09:38.228944Z",
     "start_time": "2023-12-14T16:09:38.220411400Z"
    }
   },
   "id": "5b80239561196715"
  },
  {
   "cell_type": "code",
   "execution_count": 29,
   "outputs": [],
   "source": [
    "from sklearn.datasets import load_files\n",
    "from sklearn.feature_extraction.text import CountVectorizer\n",
    "from sklearn.linear_model import LogisticRegression\n",
    "from sklearn.model_selection import cross_val_score\n",
    "\n",
    "# Загрузка обучающего и тестового набора данных\n",
    "reviews_train = load_files(\"coffee/train/\")\n",
    "reviews_test = load_files(\"coffee/test/\")\n",
    "\n",
    "text_train, y_train = reviews_train.data, reviews_train.target\n",
    "text_test, y_test = reviews_test.data, reviews_test.target"
   ],
   "metadata": {
    "collapsed": false,
    "ExecuteTime": {
     "end_time": "2023-12-14T16:22:30.569277700Z",
     "start_time": "2023-12-14T16:22:30.545143900Z"
    }
   },
   "id": "7ff70f1524372bb2"
  },
  {
   "cell_type": "code",
   "execution_count": 31,
   "outputs": [],
   "source": [
    "\n",
    "filtered_text_train = [' '.join([word for word in review.decode('utf-8').split() if word.lower() not in stop_words]) for review in text_train]\n",
    "filtered_text_test = [' '.join([word for word in review.decode('utf-8').split() if word.lower() not in stop_words]) for review in text_test]"
   ],
   "metadata": {
    "collapsed": false,
    "ExecuteTime": {
     "end_time": "2023-12-14T16:22:39.363485Z",
     "start_time": "2023-12-14T16:22:39.341902400Z"
    }
   },
   "id": "af76429c0ab1457"
  },
  {
   "cell_type": "code",
   "execution_count": 32,
   "outputs": [],
   "source": [
    "vectorizer = CountVectorizer()\n",
    "X_train = vectorizer.fit_transform(text_train)\n",
    "X_test = vectorizer.transform(text_test)"
   ],
   "metadata": {
    "collapsed": false,
    "ExecuteTime": {
     "end_time": "2023-12-14T16:22:42.519380300Z",
     "start_time": "2023-12-14T16:22:42.507312500Z"
    }
   },
   "id": "99153bfe9bcb9726"
  },
  {
   "cell_type": "code",
   "execution_count": 33,
   "outputs": [],
   "source": [
    "model = LogisticRegression()\n",
    "scores = cross_val_score(model, X_train, y_train, cv=5)"
   ],
   "metadata": {
    "collapsed": false,
    "ExecuteTime": {
     "end_time": "2023-12-14T16:22:43.285135300Z",
     "start_time": "2023-12-14T16:22:43.258834400Z"
    }
   },
   "id": "6d9634777eddf36"
  },
  {
   "cell_type": "code",
   "execution_count": 34,
   "outputs": [
    {
     "name": "stdout",
     "output_type": "stream",
     "text": [
      "Средняя правильность перекрестной проверки: 0.60\n"
     ]
    }
   ],
   "source": [
    "print(\"Средняя правильность перекрестной проверки: {:.2f}\".format(scores.mean()))"
   ],
   "metadata": {
    "collapsed": false,
    "ExecuteTime": {
     "end_time": "2023-12-14T16:22:44.049125300Z",
     "start_time": "2023-12-14T16:22:44.035286400Z"
    }
   },
   "id": "7057046cecfcb301"
  },
  {
   "cell_type": "code",
   "execution_count": 35,
   "outputs": [
    {
     "name": "stdout",
     "output_type": "stream",
     "text": [
      "Наилучшее значение перекрестной проверки: 0.67\n",
      "Наилучшие параметры:  {'C': 10}\n"
     ]
    }
   ],
   "source": [
    "from sklearn.model_selection import GridSearchCV\n",
    "param_grid = {'C': [0.001, 0.01, 0.1, 1, 10]}\n",
    "grid = GridSearchCV(LogisticRegression(max_iter=100), param_grid, cv=5)\n",
    "grid.fit(X_train, y_train)\n",
    "print(\"Наилучшее значение перекрестной проверки: {:.2f}\".format(grid.best_score_))\n",
    "print(\"Наилучшие параметры: \", grid.best_params_)"
   ],
   "metadata": {
    "collapsed": false,
    "ExecuteTime": {
     "end_time": "2023-12-14T16:24:01.369363900Z",
     "start_time": "2023-12-14T16:24:01.280502100Z"
    }
   },
   "id": "8788b5e20d2479ac"
  },
  {
   "cell_type": "markdown",
   "source": [
    "## Масштабирование данных с помощью tf-idf"
   ],
   "metadata": {
    "collapsed": false
   },
   "id": "acb342b6b4a15646"
  },
  {
   "cell_type": "code",
   "execution_count": 38,
   "outputs": [
    {
     "name": "stdout",
     "output_type": "stream",
     "text": [
      "Наилучшее значение перекрестной проверки: 0.60\n"
     ]
    }
   ],
   "source": [
    "from sklearn.feature_extraction.text import TfidfVectorizer\n",
    "from sklearn.linear_model import LogisticRegression\n",
    "from sklearn.model_selection import GridSearchCV\n",
    "\n",
    "tfidf_vectorizer = TfidfVectorizer(min_df=1, max_df=0.95)\n",
    "X_train_tfidf = tfidf_vectorizer.fit_transform(text_train)\n",
    "\n",
    "logistic_regression = LogisticRegression(max_iter=100)\n",
    "\n",
    "param_grid = {'C': [0.001, 0.01, 0.1, 1, 10]}\n",
    "grid_search = GridSearchCV(logistic_regression, param_grid, cv=5)\n",
    "grid_search.fit(X_train_tfidf, y_train)\n",
    "\n",
    "print(\"Наилучшее значение перекрестной проверки: {:.2f}\".format(grid_search.best_score_))\n"
   ],
   "metadata": {
    "collapsed": false,
    "ExecuteTime": {
     "end_time": "2023-12-14T16:27:39.920351Z",
     "start_time": "2023-12-14T16:27:39.823607600Z"
    }
   },
   "id": "65e415ee6a5a6685"
  },
  {
   "cell_type": "markdown",
   "source": [
    "## Исследование коэффициентов модели"
   ],
   "metadata": {
    "collapsed": false
   },
   "id": "b235f9d2e7ebb393"
  },
  {
   "cell_type": "code",
   "execution_count": 39,
   "outputs": [
    {
     "name": "stdout",
     "output_type": "stream",
     "text": [
      "Коэффициенты модели LogisticRegression:\n",
      "[[ 0.15985859  0.15309597 -0.15972742  0.1346154   0.1480003  -0.15247693\n",
      "  -0.15972742  0.24708987  0.15309597 -0.0215665   0.1346154   0.15985859\n",
      "  -0.1369118  -0.15494641  0.15985859  0.15309597  0.1346154   0.1480003\n",
      "  -0.15247693  0.15985859  0.1346154   0.15985859  0.1346154  -0.20675383\n",
      "   0.23735901 -0.20834941  0.1480003   0.1346154   0.15985859  0.15985859\n",
      "   0.15309597 -0.18108984  0.00053164  0.15985859 -0.15494641  0.15985859\n",
      "   0.15985859  0.02491379 -0.31610866 -0.20675383 -0.26401874  0.15985859\n",
      "  -0.15494641 -0.15972742  0.23735901  0.1480003   0.15985859 -0.18108984\n",
      "  -0.18108984 -0.15247693  0.15309597 -0.15972742 -0.15247693 -0.15494641\n",
      "  -0.20675383 -0.40990712 -0.20834941  0.1480003  -0.15494641 -0.15494641\n",
      "   0.1480003  -0.11537367  0.1480003  -0.15972742  0.1346154 ]]\n"
     ]
    }
   ],
   "source": [
    "model = LogisticRegression()\n",
    "model.fit(X_train_tfidf, y_train)\n",
    "coefficients = model.coef_\n",
    "\n",
    "print(\"Коэффициенты модели LogisticRegression:\")\n",
    "print(coefficients)\n"
   ],
   "metadata": {
    "collapsed": false,
    "ExecuteTime": {
     "start_time": "2023-12-14T16:28:32.868471400Z"
    }
   },
   "id": "aa21a3ac3cc19b76"
  },
  {
   "cell_type": "code",
   "execution_count": 40,
   "outputs": [
    {
     "name": "stdout",
     "output_type": "stream",
     "text": [
      "Топ слов с наибольшими положительными коэффициентами:\n",
      "['них' 'напиткам' 'найти' 'лучшие' 'можно' 'здесь' 'американо' 'оправданы'\n",
      " 'качеством' 'всегда']\n",
      "\n",
      "Топ слов с наименьшими отрицательными коэффициентами:\n",
      "['слишком' 'не' 'неудобно' 'качеству' 'соответствуют' 'неоригинальный'\n",
      " 'интерьер' 'скучный' 'маленькие' 'пирогов']\n"
     ]
    }
   ],
   "source": [
    "import numpy as np\n",
    "feature_names = np.array(tfidf_vectorizer.get_feature_names_out())\n",
    "\n",
    "top_positive_coefficients = np.argsort(coefficients)[0][-10:]  # Топ положительных коэффициентов\n",
    "top_negative_coefficients = np.argsort(coefficients)[0][:10]  # Топ отрицательных коэффициентов\n",
    "\n",
    "# Вывод топ слов с наибольшими положительными и отрицательными коэффициентами\n",
    "print(\"Топ слов с наибольшими положительными коэффициентами:\")\n",
    "print(feature_names[top_positive_coefficients])\n",
    "\n",
    "print(\"\\nТоп слов с наименьшими отрицательными коэффициентами:\")\n",
    "print(feature_names[top_negative_coefficients])\n"
   ],
   "metadata": {
    "collapsed": false,
    "ExecuteTime": {
     "end_time": "2023-12-14T16:29:53.163868600Z",
     "start_time": "2023-12-14T16:29:53.140133900Z"
    }
   },
   "id": "1d34d6f24b235f52"
  },
  {
   "cell_type": "markdown",
   "source": [
    "## Вывод и итог:"
   ],
   "metadata": {
    "collapsed": false
   },
   "id": "1ad437df71a7e0f9"
  },
  {
   "cell_type": "markdown",
   "source": [
    " Наш анализ данных, применение моделей и исследование коэффициентов позволили получить ценные данные из текстовых данных об отзывах о кофейне.\n",
    "  Мы сделали предобработки данных, загрузив отзывы, фильтруя стоп-слова и использовав TF-IDF для создания числовых признаков из текста.\n",
    " Благодаря такому методу мы можем оценивать отзывы о любых вещях, заведениях и тп. Использовать эту модель для анализа тексттовых данных."
   ],
   "metadata": {
    "collapsed": false
   },
   "id": "866a9f562964aecd"
  },
  {
   "cell_type": "code",
   "execution_count": null,
   "outputs": [],
   "source": [],
   "metadata": {
    "collapsed": false
   },
   "id": "c4855d7382817913"
  }
 ],
 "metadata": {
  "kernelspec": {
   "display_name": "Python 3",
   "language": "python",
   "name": "python3"
  },
  "language_info": {
   "codemirror_mode": {
    "name": "ipython",
    "version": 2
   },
   "file_extension": ".py",
   "mimetype": "text/x-python",
   "name": "python",
   "nbconvert_exporter": "python",
   "pygments_lexer": "ipython2",
   "version": "2.7.6"
  }
 },
 "nbformat": 4,
 "nbformat_minor": 5
}
