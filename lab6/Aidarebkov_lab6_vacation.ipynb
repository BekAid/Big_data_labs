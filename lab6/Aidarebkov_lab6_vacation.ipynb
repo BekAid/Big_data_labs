{
 "cells": [
  {
   "cell_type": "markdown",
   "source": [
    "# Цель работы: \n",
    "Научить улучшать качество модели и научиться применять алгоритмы улучшения\n",
    "\n",
    "## Задача:\n",
    "Создать модель классификатор, которая по определенному обучаемому набору (salary, city, age, vacation_prefer, transport_prefer) будет определять предпочтения человека (target), в каком городе провести отпуск.\n"
   ],
   "metadata": {
    "collapsed": false
   },
   "id": "a784adcd87f8737"
  },
  {
   "cell_type": "markdown",
   "source": [
    " ## 1)Создание синтетического датасета и подготовка данных"
   ],
   "metadata": {
    "collapsed": false
   },
   "id": "ec20cf6bf6c51f5f"
  },
  {
   "cell_type": "code",
   "execution_count": 42,
   "outputs": [],
   "source": [
    "import pandas as pd\n",
    "import random\n",
    "\n",
    "# Создание синтетического датасета\n",
    "data = {\n",
    "    'salary': [random.randint(30000, 80000) for _ in range(1000)],\n",
    "    'city': [random.choice(['Bishkek', 'London', 'Moscow', 'New York']) for _ in range(1000)],\n",
    "    'age': [random.randint(30, 65) for _ in range(1000)],\n",
    "    'vacation_prefer': [random.choice(['Shopping', 'Beach holiday', 'Mountain adventure']) for _ in range(1000)],\n",
    "    'transport_prefer': [random.choice(['auto', 'plane']) for _ in range(1000)],\n",
    "    'target': [random.choice(['London', 'Moscow', 'New York']) for _ in range(1000)]\n",
    "}\n",
    "\n",
    "df = pd.DataFrame(data)\n",
    "\n",
    "df_encoded = pd.get_dummies(df, columns=['city', 'vacation_prefer', 'transport_prefer'])\n"
   ],
   "metadata": {
    "collapsed": false,
    "ExecuteTime": {
     "end_time": "2023-12-05T17:15:07.736892100Z",
     "start_time": "2023-12-05T17:15:07.720809500Z"
    }
   },
   "id": "f0593acfab2787c9"
  },
  {
   "cell_type": "markdown",
   "source": [
    "## 2)Разделение на обучающую и тестовую выборки"
   ],
   "metadata": {
    "collapsed": false
   },
   "id": "848dd9b564945ebc"
  },
  {
   "cell_type": "code",
   "execution_count": 43,
   "outputs": [],
   "source": [
    "X = df_encoded.drop('target', axis=1)\n",
    "y = df_encoded['target']\n",
    "\n",
    "from sklearn.model_selection import train_test_split\n",
    "X_train, X_test, y_train, y_test = train_test_split(X, y, test_size=0.2, random_state=42)"
   ],
   "metadata": {
    "collapsed": false,
    "ExecuteTime": {
     "end_time": "2023-12-05T17:15:09.359227700Z",
     "start_time": "2023-12-05T17:15:09.349470400Z"
    }
   },
   "id": "6d831863e10af8d8"
  },
  {
   "cell_type": "markdown",
   "source": [
    "## 3) Предсказание на случайных данных без улучшения выбирая модель классификатора Random Forest Classifier"
   ],
   "metadata": {
    "collapsed": false
   },
   "id": "168c8397605dd25b"
  },
  {
   "cell_type": "code",
   "execution_count": 44,
   "outputs": [
    {
     "name": "stdout",
     "output_type": "stream",
     "text": [
      "Точность модели на тестовой выборке: 0.28\n",
      "Предсказанный город для отпуска: ['New York' 'Moscow' 'London' 'Moscow' 'London' 'Moscow' 'Moscow' 'Moscow'\n",
      " 'New York' 'London' 'Moscow' 'Moscow' 'New York' 'New York' 'London'\n",
      " 'London' 'London' 'New York' 'London' 'New York' 'London' 'London'\n",
      " 'London' 'Moscow' 'London' 'London' 'Moscow' 'London' 'New York' 'London'\n",
      " 'London' 'London' 'New York' 'London' 'London' 'London' 'New York'\n",
      " 'London' 'London' 'New York' 'New York' 'London' 'London' 'Moscow'\n",
      " 'Moscow' 'London' 'London' 'New York' 'London' 'New York' 'London'\n",
      " 'Moscow' 'Moscow' 'London' 'Moscow' 'New York' 'New York' 'London'\n",
      " 'London' 'New York' 'Moscow' 'New York' 'Moscow' 'Moscow' 'London'\n",
      " 'New York' 'London' 'Moscow' 'New York' 'Moscow' 'London' 'London'\n",
      " 'London' 'London' 'London' 'New York' 'New York' 'London' 'Moscow'\n",
      " 'London' 'New York' 'Moscow' 'London' 'Moscow' 'Moscow' 'London' 'Moscow'\n",
      " 'London' 'New York' 'London' 'Moscow' 'Moscow' 'New York' 'London'\n",
      " 'London' 'Moscow' 'London' 'New York' 'Moscow' 'Moscow' 'London'\n",
      " 'New York' 'London' 'New York' 'London' 'New York' 'New York' 'London'\n",
      " 'New York' 'New York' 'London' 'Moscow' 'London' 'New York' 'Moscow'\n",
      " 'London' 'Moscow' 'New York' 'London' 'Moscow' 'Moscow' 'Moscow' 'London'\n",
      " 'London' 'New York' 'New York' 'London' 'Moscow' 'London' 'London'\n",
      " 'London' 'London' 'New York' 'London' 'London' 'Moscow' 'Moscow' 'London'\n",
      " 'Moscow' 'Moscow' 'Moscow' 'London' 'London' 'Moscow' 'London' 'London'\n",
      " 'New York' 'Moscow' 'Moscow' 'Moscow' 'Moscow' 'Moscow' 'London' 'Moscow'\n",
      " 'London' 'Moscow' 'New York' 'New York' 'London' 'London' 'Moscow'\n",
      " 'London' 'Moscow' 'Moscow' 'London' 'London' 'New York' 'London' 'Moscow'\n",
      " 'London' 'Moscow' 'Moscow' 'Moscow' 'New York' 'London' 'London' 'Moscow'\n",
      " 'London' 'Moscow' 'Moscow' 'London' 'Moscow' 'Moscow' 'Moscow' 'London'\n",
      " 'London' 'Moscow' 'Moscow' 'London' 'London' 'Moscow' 'London' 'Moscow'\n",
      " 'Moscow' 'New York' 'London' 'New York' 'Moscow' 'London' 'London'\n",
      " 'London' 'New York' 'London' 'London' 'New York' 'Moscow' 'Moscow'\n",
      " 'New York' 'London' 'Moscow' 'Moscow' 'New York' 'New York' 'New York'\n",
      " 'Moscow' 'Moscow' 'New York' 'Moscow' 'New York' 'London' 'London'\n",
      " 'Moscow' 'New York' 'London' 'Moscow' 'London' 'Moscow' 'Moscow' 'Moscow'\n",
      " 'New York' 'New York' 'London' 'Moscow' 'New York' 'Moscow' 'London'\n",
      " 'London' 'New York' 'New York' 'London' 'New York' 'London' 'London'\n",
      " 'London' 'New York' 'New York' 'New York' 'New York' 'London' 'New York'\n",
      " 'New York' 'Moscow' 'New York' 'London' 'London' 'London' 'London'\n",
      " 'New York' 'New York' 'London' 'Moscow' 'London' 'London' 'Moscow'\n",
      " 'London' 'Moscow' 'London' 'New York' 'Moscow' 'Moscow' 'London' 'Moscow'\n",
      " 'Moscow' 'Moscow' 'Moscow' 'Moscow' 'London' 'Moscow' 'London' 'Moscow'\n",
      " 'Moscow' 'London' 'New York' 'London' 'London' 'New York' 'London'\n",
      " 'London' 'London' 'New York' 'London' 'London' 'London' 'New York'\n",
      " 'Moscow' 'Moscow' 'Moscow' 'Moscow' 'Moscow' 'New York' 'London' 'London'\n",
      " 'London' 'London' 'Moscow' 'New York' 'London' 'London' 'Moscow' 'Moscow'\n",
      " 'Moscow' 'London' 'Moscow' 'Moscow' 'Moscow' 'New York' 'New York'\n",
      " 'Moscow' 'London' 'New York' 'London' 'Moscow' 'Moscow' 'London' 'Moscow'\n",
      " 'Moscow' 'New York' 'London' 'London' 'Moscow' 'Moscow' 'Moscow' 'Moscow'\n",
      " 'Moscow' 'Moscow' 'London' 'New York' 'New York' 'London' 'London'\n",
      " 'New York' 'London' 'London' 'London' 'Moscow' 'London' 'Moscow'\n",
      " 'New York' 'New York' 'London' 'Moscow' 'London' 'London' 'New York'\n",
      " 'Moscow' 'New York' 'Moscow' 'New York' 'New York' 'London' 'London'\n",
      " 'Moscow' 'London' 'London' 'New York' 'Moscow' 'Moscow' 'New York'\n",
      " 'Moscow' 'London' 'London' 'Moscow' 'New York' 'Moscow' 'London' 'London'\n",
      " 'London' 'Moscow' 'Moscow' 'London' 'New York' 'London' 'New York'\n",
      " 'London' 'Moscow' 'London' 'New York' 'Moscow' 'New York' 'Moscow'\n",
      " 'New York' 'London' 'New York' 'Moscow' 'New York' 'London' 'New York'\n",
      " 'London' 'Moscow' 'London' 'Moscow' 'Moscow' 'Moscow' 'Moscow' 'London'\n",
      " 'London' 'Moscow' 'London' 'New York' 'London' 'New York' 'New York'\n",
      " 'Moscow' 'London' 'New York' 'London' 'London' 'New York' 'New York'\n",
      " 'New York' 'Moscow' 'London' 'London' 'London' 'London' 'London' 'Moscow'\n",
      " 'Moscow' 'Moscow' 'Moscow' 'London' 'New York' 'Moscow' 'London' 'London'\n",
      " 'New York' 'London' 'London' 'Moscow' 'Moscow' 'London' 'Moscow' 'Moscow'\n",
      " 'London' 'London' 'Moscow' 'London' 'Moscow' 'London' 'London' 'New York'\n",
      " 'New York' 'New York' 'Moscow' 'Moscow' 'London' 'Moscow' 'New York'\n",
      " 'New York' 'Moscow' 'Moscow' 'London' 'London' 'Moscow' 'Moscow' 'London'\n",
      " 'London' 'Moscow' 'London' 'London' 'Moscow' 'London' 'Moscow' 'Moscow'\n",
      " 'New York' 'New York' 'London' 'New York' 'New York' 'London' 'Moscow'\n",
      " 'London' 'London' 'New York' 'New York' 'Moscow' 'London' 'London'\n",
      " 'Moscow' 'London' 'London' 'New York' 'London' 'London' 'London' 'London'\n",
      " 'New York' 'Moscow' 'Moscow' 'Moscow' 'Moscow' 'New York' 'Moscow'\n",
      " 'Moscow' 'Moscow' 'Moscow' 'New York' 'London' 'Moscow' 'London' 'Moscow'\n",
      " 'Moscow' 'Moscow' 'London' 'Moscow' 'Moscow' 'Moscow' 'Moscow' 'Moscow'\n",
      " 'Moscow' 'New York' 'New York' 'Moscow' 'Moscow' 'Moscow' 'London'\n",
      " 'London' 'New York' 'New York' 'New York' 'New York' 'Moscow' 'Moscow'\n",
      " 'London' 'Moscow' 'Moscow' 'London' 'London' 'Moscow' 'London' 'London'\n",
      " 'New York' 'Moscow' 'Moscow' 'London' 'New York' 'New York' 'London'\n",
      " 'London' 'Moscow' 'New York' 'Moscow' 'New York' 'New York' 'New York'\n",
      " 'New York' 'Moscow' 'London' 'New York' 'Moscow' 'Moscow' 'Moscow'\n",
      " 'London' 'Moscow' 'Moscow' 'Moscow' 'New York' 'Moscow' 'New York'\n",
      " 'Moscow' 'London' 'Moscow' 'Moscow' 'New York' 'London' 'London'\n",
      " 'New York' 'London' 'Moscow' 'Moscow' 'Moscow' 'New York' 'Moscow'\n",
      " 'New York' 'Moscow' 'New York' 'Moscow' 'New York' 'Moscow' 'London'\n",
      " 'Moscow' 'New York' 'Moscow' 'London' 'London' 'Moscow' 'Moscow'\n",
      " 'New York' 'London' 'London' 'London' 'Moscow' 'London' 'London' 'London'\n",
      " 'Moscow' 'London' 'London' 'London' 'New York' 'London' 'London' 'Moscow'\n",
      " 'New York' 'London' 'New York' 'New York' 'New York' 'London' 'London'\n",
      " 'New York' 'London' 'London' 'London' 'London' 'London' 'Moscow' 'London'\n",
      " 'New York' 'New York' 'Moscow' 'New York' 'London' 'London' 'London'\n",
      " 'London' 'New York' 'Moscow' 'London' 'Moscow' 'New York' 'Moscow'\n",
      " 'London' 'Moscow' 'New York' 'Moscow' 'London' 'London' 'New York'\n",
      " 'New York' 'New York' 'Moscow' 'Moscow' 'Moscow' 'New York' 'London'\n",
      " 'London' 'London' 'London' 'New York' 'Moscow' 'Moscow' 'London' 'London'\n",
      " 'London' 'New York' 'New York' 'London' 'London' 'Moscow' 'London'\n",
      " 'Moscow' 'London' 'London' 'New York' 'Moscow' 'London' 'New York'\n",
      " 'London' 'Moscow' 'Moscow' 'Moscow' 'London' 'London' 'Moscow' 'New York'\n",
      " 'London' 'London' 'London' 'London' 'New York' 'New York' 'Moscow'\n",
      " 'Moscow' 'New York' 'New York' 'Moscow' 'London' 'Moscow' 'New York'\n",
      " 'London' 'London' 'Moscow' 'Moscow' 'Moscow' 'London' 'London' 'New York'\n",
      " 'London' 'London' 'London' 'New York' 'Moscow' 'London' 'Moscow' 'Moscow'\n",
      " 'London' 'Moscow' 'New York' 'Moscow' 'London' 'London' 'New York'\n",
      " 'Moscow' 'London' 'Moscow' 'New York' 'London' 'Moscow' 'London' 'London'\n",
      " 'Moscow' 'Moscow' 'Moscow' 'Moscow' 'Moscow' 'Moscow' 'New York' 'Moscow'\n",
      " 'New York' 'New York' 'Moscow' 'London' 'New York' 'Moscow' 'London'\n",
      " 'New York' 'London' 'London' 'London' 'New York' 'London' 'Moscow'\n",
      " 'London' 'New York' 'Moscow' 'Moscow' 'Moscow' 'New York' 'Moscow'\n",
      " 'New York' 'London' 'New York' 'London' 'Moscow' 'Moscow' 'New York'\n",
      " 'Moscow' 'Moscow' 'Moscow' 'Moscow' 'London' 'London' 'London' 'New York'\n",
      " 'Moscow' 'London' 'New York' 'Moscow' 'New York' 'New York' 'Moscow'\n",
      " 'Moscow' 'London' 'London' 'Moscow' 'London' 'Moscow' 'London' 'New York'\n",
      " 'London' 'London' 'New York' 'Moscow' 'Moscow' 'Moscow' 'London' 'Moscow'\n",
      " 'London' 'Moscow']\n"
     ]
    }
   ],
   "source": [
    "from sklearn.ensemble import RandomForestClassifier\n",
    "clf = RandomForestClassifier(random_state=42)\n",
    "\n",
    "clf.fit(X_train, y_train)\n",
    "\n",
    "# Оценка модели\n",
    "accuracy = clf.score(X_test, y_test)\n",
    "print(f\"Точность модели на тестовой выборке: {accuracy}\")\n",
    "\n",
    "random_data = {\n",
    "    'salary': [random.randint(30000, 80000) for _ in range(len(X_train))],\n",
    "    'city': [random.choice(['Bishkek', 'London', 'Moscow', 'New York']) for _ in range(len(X_train))],\n",
    "    'age': [random.randint(30, 65) for _ in range(len(X_train))],\n",
    "    'vacation_prefer': [random.choice(['Shopping', 'Beach holiday', 'Mountain adventure']) for _ in range(len(X_train))],\n",
    "    'transport_prefer': [random.choice(['auto', 'plane']) for _ in range(len(X_train))]\n",
    "}\n",
    "\n",
    "random_df = pd.DataFrame(random_data)\n",
    "\n",
    "random_encoded = pd.get_dummies(random_df, columns=['city', 'vacation_prefer', 'transport_prefer'])\n",
    "\n",
    "# Предсказание на случайных данных\n",
    "prediction = clf.predict(random_encoded)\n",
    "print(f\"Предсказанный город для отпуска: {prediction}\")"
   ],
   "metadata": {
    "collapsed": false,
    "ExecuteTime": {
     "end_time": "2023-12-05T17:15:10.916161200Z",
     "start_time": "2023-12-05T17:15:10.670035700Z"
    }
   },
   "id": "30f622179f0e58c1"
  },
  {
   "cell_type": "markdown",
   "source": [
    "## 4)Улучшение модели с помощью решетчатого поиска"
   ],
   "metadata": {
    "collapsed": false
   },
   "id": "68e2eb3722ea78ce"
  },
  {
   "cell_type": "code",
   "execution_count": 45,
   "outputs": [
    {
     "name": "stdout",
     "output_type": "stream",
     "text": [
      "Лучшие параметры: {'max_depth': None, 'min_samples_split': 10, 'n_estimators': 100}\n",
      "Лучшая оценка на кросс-валидации: 0.34625000000000006\n"
     ]
    }
   ],
   "source": [
    "from sklearn.model_selection import cross_val_score, GridSearchCV\n",
    "from sklearn.ensemble import RandomForestClassifier\n",
    "\n",
    "param_grid = {\n",
    "    'n_estimators': [100, 150, 200],\n",
    "    'max_depth': [None, 5, 10, 15],\n",
    "    'min_samples_split': [2, 5, 10]\n",
    "}\n",
    "\n",
    "clf = RandomForestClassifier(random_state=42)\n",
    "\n",
    "grid_search = GridSearchCV(clf, param_grid, cv=5)\n",
    "\n",
    "grid_search.fit(X_train, y_train)\n",
    "\n",
    "# Получаем лучшие параметры и лучшую оценку\n",
    "best_params = grid_search.best_params_\n",
    "best_score = grid_search.best_score_\n",
    "\n",
    "print(\"Лучшие параметры:\", best_params)\n",
    "print(\"Лучшая оценка на кросс-валидации:\", best_score)\n"
   ],
   "metadata": {
    "collapsed": false,
    "ExecuteTime": {
     "end_time": "2023-12-05T17:15:55.229397600Z",
     "start_time": "2023-12-05T17:15:11.859171300Z"
    }
   },
   "id": "1d1ddd374c08269d"
  },
  {
   "cell_type": "markdown",
   "source": [
    "## 5)Оценка улучшенной модели на тестовой выборке и предсказание на случайных данных"
   ],
   "metadata": {
    "collapsed": false
   },
   "id": "b9838b4ac132f51a"
  },
  {
   "cell_type": "code",
   "execution_count": 46,
   "outputs": [
    {
     "name": "stdout",
     "output_type": "stream",
     "text": [
      "Точность модели на тестовой выборке после улучшения: 0.325\n",
      "Точность модели на тестовой выборке: 0.28\n",
      "Предсказанный город для отпуска: ['Moscow' 'Moscow' 'New York' 'Moscow' 'Moscow' 'London' 'Moscow' 'London'\n",
      " 'Moscow' 'London' 'Moscow' 'London' 'London' 'New York' 'Moscow' 'Moscow'\n",
      " 'Moscow' 'Moscow' 'New York' 'London' 'Moscow' 'New York' 'Moscow'\n",
      " 'New York' 'London' 'London' 'New York' 'London' 'Moscow' 'Moscow'\n",
      " 'Moscow' 'Moscow' 'Moscow' 'London' 'New York' 'Moscow' 'New York'\n",
      " 'New York' 'London' 'London' 'London' 'Moscow' 'London' 'Moscow'\n",
      " 'New York' 'Moscow' 'New York' 'New York' 'London' 'Moscow' 'Moscow'\n",
      " 'Moscow' 'London' 'Moscow' 'London' 'London' 'London' 'Moscow' 'London'\n",
      " 'Moscow' 'Moscow' 'New York' 'New York' 'London' 'London' 'New York'\n",
      " 'London' 'Moscow' 'London' 'Moscow' 'London' 'Moscow' 'Moscow' 'Moscow'\n",
      " 'London' 'Moscow' 'London' 'London' 'New York' 'London' 'London' 'Moscow'\n",
      " 'New York' 'Moscow' 'London' 'London' 'London' 'London' 'Moscow' 'London'\n",
      " 'Moscow' 'Moscow' 'Moscow' 'Moscow' 'Moscow' 'Moscow' 'London' 'Moscow'\n",
      " 'London' 'New York' 'London' 'New York' 'London' 'London' 'Moscow'\n",
      " 'Moscow' 'Moscow' 'New York' 'Moscow' 'New York' 'New York' 'New York'\n",
      " 'New York' 'London' 'Moscow' 'Moscow' 'London' 'Moscow' 'New York'\n",
      " 'London' 'Moscow' 'London' 'Moscow' 'New York' 'London' 'New York'\n",
      " 'Moscow' 'Moscow' 'New York' 'New York' 'New York' 'London' 'Moscow'\n",
      " 'Moscow' 'London' 'Moscow' 'Moscow' 'London' 'Moscow' 'London' 'New York'\n",
      " 'London' 'Moscow' 'London' 'London' 'London' 'London' 'London' 'London'\n",
      " 'Moscow' 'New York' 'London' 'Moscow' 'New York' 'London' 'Moscow'\n",
      " 'New York' 'London' 'New York' 'London' 'London' 'New York' 'Moscow'\n",
      " 'London' 'London' 'New York' 'London' 'London' 'Moscow' 'Moscow' 'Moscow'\n",
      " 'Moscow' 'New York' 'London' 'Moscow' 'Moscow' 'New York' 'Moscow'\n",
      " 'Moscow' 'New York' 'London' 'London' 'London' 'London' 'New York'\n",
      " 'London' 'London' 'London' 'Moscow' 'London' 'London' 'Moscow' 'Moscow'\n",
      " 'New York' 'Moscow' 'Moscow' 'London' 'London' 'Moscow' 'Moscow' 'London'\n",
      " 'London' 'New York' 'Moscow' 'Moscow' 'New York' 'Moscow' 'London'\n",
      " 'London' 'Moscow' 'New York' 'London' 'London' 'Moscow' 'London'\n",
      " 'New York' 'London' 'London' 'London' 'New York' 'Moscow' 'Moscow'\n",
      " 'London' 'Moscow' 'London' 'London' 'London' 'Moscow' 'Moscow' 'New York'\n",
      " 'London' 'London' 'Moscow' 'Moscow' 'New York' 'Moscow' 'London'\n",
      " 'New York' 'Moscow' 'New York' 'Moscow' 'New York' 'New York' 'Moscow'\n",
      " 'London' 'London' 'London' 'Moscow' 'London' 'London' 'Moscow' 'Moscow'\n",
      " 'London' 'London' 'Moscow' 'Moscow' 'New York' 'Moscow' 'London'\n",
      " 'New York' 'Moscow' 'Moscow' 'Moscow' 'New York' 'London' 'Moscow'\n",
      " 'London' 'New York' 'Moscow' 'Moscow' 'London' 'London' 'New York'\n",
      " 'London' 'Moscow' 'New York' 'London' 'London' 'Moscow' 'Moscow'\n",
      " 'New York' 'Moscow' 'Moscow' 'Moscow' 'London' 'New York' 'Moscow'\n",
      " 'Moscow' 'Moscow' 'Moscow' 'London' 'Moscow' 'London' 'London' 'Moscow'\n",
      " 'New York' 'New York' 'London' 'Moscow' 'London' 'Moscow' 'New York'\n",
      " 'Moscow' 'London' 'Moscow' 'Moscow' 'New York' 'London' 'New York'\n",
      " 'Moscow' 'London' 'Moscow' 'New York' 'London' 'London' 'London' 'London'\n",
      " 'Moscow' 'Moscow' 'London' 'London' 'London' 'Moscow' 'Moscow' 'Moscow'\n",
      " 'Moscow' 'Moscow' 'Moscow' 'London' 'New York' 'New York' 'New York'\n",
      " 'Moscow' 'Moscow' 'New York' 'New York' 'London' 'London' 'Moscow'\n",
      " 'New York' 'Moscow' 'Moscow' 'London' 'London' 'London' 'New York'\n",
      " 'London' 'New York' 'Moscow' 'New York' 'New York' 'London' 'Moscow'\n",
      " 'London' 'London' 'London' 'London' 'London' 'Moscow' 'London' 'London'\n",
      " 'Moscow' 'Moscow' 'Moscow' 'London' 'London' 'Moscow' 'New York' 'London'\n",
      " 'London' 'London' 'Moscow' 'London' 'New York' 'Moscow' 'Moscow' 'Moscow'\n",
      " 'Moscow' 'London' 'Moscow' 'London' 'Moscow' 'Moscow' 'Moscow' 'Moscow'\n",
      " 'London' 'Moscow' 'New York' 'Moscow' 'London' 'Moscow' 'Moscow'\n",
      " 'New York' 'Moscow' 'New York' 'New York' 'Moscow' 'New York' 'London'\n",
      " 'London' 'New York' 'Moscow' 'New York' 'Moscow' 'New York' 'New York'\n",
      " 'London' 'New York' 'New York' 'New York' 'Moscow' 'Moscow' 'New York'\n",
      " 'London' 'New York' 'London' 'Moscow' 'New York' 'Moscow' 'New York'\n",
      " 'New York' 'New York' 'Moscow' 'London' 'New York' 'Moscow' 'Moscow'\n",
      " 'Moscow' 'New York' 'London' 'New York' 'Moscow' 'New York' 'New York'\n",
      " 'New York' 'Moscow' 'New York' 'Moscow' 'London' 'London' 'Moscow'\n",
      " 'Moscow' 'London' 'Moscow' 'Moscow' 'London' 'London' 'London' 'London'\n",
      " 'New York' 'Moscow' 'New York' 'Moscow' 'New York' 'Moscow' 'Moscow'\n",
      " 'New York' 'London' 'New York' 'London' 'New York' 'Moscow' 'New York'\n",
      " 'Moscow' 'New York' 'Moscow' 'Moscow' 'New York' 'London' 'London'\n",
      " 'Moscow' 'Moscow' 'London' 'Moscow' 'London' 'Moscow' 'London' 'London'\n",
      " 'Moscow' 'London' 'New York' 'Moscow' 'Moscow' 'New York' 'London'\n",
      " 'London' 'Moscow' 'London' 'London' 'Moscow' 'Moscow' 'Moscow' 'Moscow'\n",
      " 'London' 'New York' 'Moscow' 'Moscow' 'London' 'Moscow' 'Moscow' 'London'\n",
      " 'London' 'London' 'London' 'Moscow' 'New York' 'New York' 'London'\n",
      " 'London' 'London' 'Moscow' 'New York' 'Moscow' 'Moscow' 'New York'\n",
      " 'London' 'London' 'Moscow' 'New York' 'New York' 'London' 'London'\n",
      " 'Moscow' 'London' 'London' 'New York' 'New York' 'Moscow' 'Moscow'\n",
      " 'Moscow' 'New York' 'New York' 'London' 'Moscow' 'Moscow' 'Moscow'\n",
      " 'London' 'New York' 'New York' 'London' 'Moscow' 'London' 'Moscow'\n",
      " 'London' 'New York' 'Moscow' 'New York' 'London' 'Moscow' 'London'\n",
      " 'Moscow' 'New York' 'Moscow' 'Moscow' 'London' 'London' 'London'\n",
      " 'New York' 'Moscow' 'Moscow' 'Moscow' 'New York' 'London' 'Moscow'\n",
      " 'London' 'Moscow' 'Moscow' 'Moscow' 'London' 'Moscow' 'London' 'New York'\n",
      " 'Moscow' 'London' 'Moscow' 'Moscow' 'New York' 'London' 'Moscow' 'London'\n",
      " 'London' 'New York' 'Moscow' 'Moscow' 'Moscow' 'London' 'London' 'Moscow'\n",
      " 'Moscow' 'Moscow' 'Moscow' 'New York' 'Moscow' 'New York' 'New York'\n",
      " 'Moscow' 'New York' 'London' 'Moscow' 'London' 'New York' 'London'\n",
      " 'London' 'Moscow' 'New York' 'Moscow' 'Moscow' 'Moscow' 'New York'\n",
      " 'Moscow' 'New York' 'New York' 'London' 'London' 'Moscow' 'London'\n",
      " 'New York' 'New York' 'New York' 'New York' 'Moscow' 'New York' 'Moscow'\n",
      " 'London' 'Moscow' 'London' 'Moscow' 'London' 'Moscow' 'Moscow' 'Moscow'\n",
      " 'London' 'New York' 'New York' 'New York' 'London' 'New York' 'Moscow'\n",
      " 'Moscow' 'New York' 'New York' 'Moscow' 'New York' 'Moscow' 'Moscow'\n",
      " 'London' 'Moscow' 'Moscow' 'New York' 'Moscow' 'Moscow' 'Moscow'\n",
      " 'New York' 'New York' 'Moscow' 'Moscow' 'Moscow' 'London' 'New York'\n",
      " 'London' 'Moscow' 'London' 'Moscow' 'Moscow' 'Moscow' 'Moscow' 'London'\n",
      " 'London' 'Moscow' 'London' 'London' 'London' 'Moscow' 'Moscow' 'Moscow'\n",
      " 'Moscow' 'London' 'Moscow' 'London' 'Moscow' 'Moscow' 'London' 'London'\n",
      " 'London' 'New York' 'Moscow' 'New York' 'London' 'London' 'New York'\n",
      " 'London' 'Moscow' 'London' 'London' 'New York' 'New York' 'London'\n",
      " 'Moscow' 'London' 'Moscow' 'London' 'New York' 'New York' 'Moscow'\n",
      " 'London' 'London' 'Moscow' 'Moscow' 'London' 'Moscow' 'Moscow' 'New York'\n",
      " 'London' 'London' 'Moscow' 'Moscow' 'New York' 'Moscow' 'Moscow' 'Moscow'\n",
      " 'London' 'Moscow' 'London' 'Moscow' 'London' 'London' 'New York' 'London'\n",
      " 'London' 'London' 'London' 'London' 'Moscow' 'London' 'New York' 'Moscow'\n",
      " 'New York' 'London' 'Moscow' 'New York' 'New York' 'New York' 'Moscow'\n",
      " 'London' 'London' 'London' 'New York' 'Moscow' 'London' 'London'\n",
      " 'New York' 'Moscow' 'London' 'London' 'Moscow' 'London' 'London'\n",
      " 'New York' 'London' 'London' 'London' 'London' 'Moscow' 'London'\n",
      " 'New York' 'London' 'New York' 'New York' 'London' 'Moscow' 'New York'\n",
      " 'Moscow' 'New York' 'New York' 'Moscow' 'Moscow' 'Moscow' 'New York'\n",
      " 'London' 'New York' 'London' 'London' 'New York' 'Moscow' 'New York'\n",
      " 'New York' 'New York' 'Moscow' 'London' 'New York' 'London' 'Moscow'\n",
      " 'Moscow' 'New York' 'Moscow' 'Moscow' 'New York' 'New York' 'London'\n",
      " 'London']\n"
     ]
    }
   ],
   "source": [
    "best_model = grid_search.best_estimator_\n",
    "best_model.fit(X_train, y_train)\n",
    "\n",
    "accuracy = best_model.score(X_test, y_test)\n",
    "print(f\"Точность модели на тестовой выборке после улучшения: {accuracy}\")\n",
    "\n",
    "from sklearn.ensemble import RandomForestClassifier\n",
    "clf = RandomForestClassifier(random_state=42)\n",
    "\n",
    "clf.fit(X_train, y_train)\n",
    "\n",
    "random_data = {\n",
    "    'salary': [random.randint(30000, 80000) for _ in range(len(X_train))],\n",
    "    'city': [random.choice(['Bishkek', 'London', 'Moscow', 'New York']) for _ in range(len(X_train))],\n",
    "    'age': [random.randint(30, 65) for _ in range(len(X_train))],\n",
    "    'vacation_prefer': [random.choice(['Shopping', 'Beach holiday', 'Mountain adventure']) for _ in range(len(X_train))],\n",
    "    'transport_prefer': [random.choice(['auto', 'plane']) for _ in range(len(X_train))]\n",
    "}\n",
    "\n",
    "random_df = pd.DataFrame(random_data)\n",
    "\n",
    "random_encoded = pd.get_dummies(random_df, columns=['city', 'vacation_prefer', 'transport_prefer'])\n",
    "\n",
    "# Предсказание на случайных данных\n",
    "prediction = best_model.predict(random_encoded)\n",
    "print(f\"Предсказанный город для отпуска: {prediction}\")"
   ],
   "metadata": {
    "collapsed": false,
    "ExecuteTime": {
     "end_time": "2023-12-05T17:15:55.657824700Z",
     "start_time": "2023-12-05T17:15:55.229397600Z"
    }
   },
   "id": "5b4dc003742b3d28"
  },
  {
   "cell_type": "markdown",
   "source": [
    "# Вывод:\n",
    "\n",
    "Мы создали модель классификатор, которая по определенному обучаемому набору (salary, city, age, vacation_prefer, transport_prefer) будет определять предпочтения человека (target), в каком городе провести отпуск.\n",
    "\n",
    "Модель без улучшений показала результат точности 28%\n",
    "Модель с улучшениями показала результат точности 33.5%\n",
    "Мы улучшали модель, используя несколько методов:\n",
    "\n",
    "    - Перекрестная проверка\n",
    "    - Решетчатый поиск\n",
    "    - Оценка модели\n",
    "    - Использование метрик\n",
    "\n",
    "Небольшая разница, но можем подвести итог что улучшения в правильном применении помогают в построении лучшей модели\n"
   ],
   "metadata": {
    "collapsed": false
   },
   "id": "ec41f332bb63e634"
  },
  {
   "cell_type": "code",
   "execution_count": null,
   "outputs": [],
   "source": [],
   "metadata": {
    "collapsed": false
   },
   "id": "1ac005512315ae7"
  }
 ],
 "metadata": {
  "kernelspec": {
   "display_name": "Python 3",
   "language": "python",
   "name": "python3"
  },
  "language_info": {
   "codemirror_mode": {
    "name": "ipython",
    "version": 2
   },
   "file_extension": ".py",
   "mimetype": "text/x-python",
   "name": "python",
   "nbconvert_exporter": "python",
   "pygments_lexer": "ipython2",
   "version": "2.7.6"
  }
 },
 "nbformat": 4,
 "nbformat_minor": 5
}
